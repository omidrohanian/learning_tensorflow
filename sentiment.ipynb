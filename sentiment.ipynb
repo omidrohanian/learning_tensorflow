{
 "cells": [
  {
   "cell_type": "markdown",
   "metadata": {},
   "source": [
    "### Applying deep neural network to sentiment training data\n",
    "We have two files <i>pos</i> and <i>neg</i> that contain positive and negative sentences (The pos file has ~5,000 positive sentiment statements, and the neg file has ~5,000 negative sentiment statements.). We'd like to train an NN classifier for sentiment analysis similar in structure to our <a href=\"https://github.com/omidrohanian/learning_tensorflow/blob/master/deep_net.ipynb\">deep_net</a> example from before. Our inputs here are strings of characters. But we need to convert them to vectors to feed into a network. One way to do this is to have an indexed lexicon (a list of words) and construct feature vectors using the bag-of-words model. The lexicon needs to be created from the whole corpus."
   ]
  },
  {
   "cell_type": "code",
   "execution_count": 104,
   "metadata": {
    "collapsed": true
   },
   "outputs": [],
   "source": [
    "# Example:\n",
    "# lexicon = [chair, table, spoon, television]\n",
    "# text = I pulled the chair up to the table\n",
    "# constructed vector = [1 1 0 0]"
   ]
  },
  {
   "cell_type": "code",
   "execution_count": 105,
   "metadata": {
    "collapsed": true
   },
   "outputs": [],
   "source": [
    "# Reference: https://www.youtube.com/watch?v=YFxVHD2TNII\n",
    "\n",
    "import nltk, random, pickle\n",
    "# tokenizer separates all the words in the text\n",
    "from nltk.tokenize import word_tokenize\n",
    "# lemmatizer removes inflectional endings and returns the base or dictionary form of a word\n",
    "from nltk.stem import WordNetLemmatizer\n",
    "\n",
    "\n",
    "import numpy as np \n",
    "from collections import Counter \n",
    "\n",
    "lemmatizer = WordNetLemmatizer()\n",
    "# num of lines\n",
    "hm_lines = 10000000\n",
    "\n",
    "def create_lexicon(pos, neg):\n",
    "    lexicon = []\n",
    "    for fi in [pos, neg]:\n",
    "        with open(fi, 'r') as f:\n",
    "            contents = f.readlines()\n",
    "            for l in contents[:hm_lines]:\n",
    "                all_words = word_tokenize(l.lower())\n",
    "                lexicon += list(all_words)       \n",
    "    lexicon = [lemmatizer.lemmatize(i) for i in lexicon]\n",
    "    # now we count all the words\n",
    "    w_counts = Counter(lexicon)\n",
    "    l2 = []\n",
    "    # This is to weed out super-common words like 'the', 'and' etc\n",
    "    for w in w_counts:\n",
    "        if 1000 > w_counts[w] > 50:\n",
    "            l2.append(w)\n",
    "    print('size of the lexicon=', len(l2))\n",
    "    return l2 "
   ]
  },
  {
   "cell_type": "markdown",
   "metadata": {},
   "source": [
    "Now that we have constructed the lexicon, we can use it for classifying feature sets."
   ]
  },
  {
   "cell_type": "code",
   "execution_count": 114,
   "metadata": {
    "collapsed": false
   },
   "outputs": [
    {
     "name": "stdout",
     "output_type": "stream",
     "text": [
      "size of the lexicon= 423\n"
     ]
    }
   ],
   "source": [
    "def sample_handling(sample, lexicon, classification):\n",
    "    featureset = []\n",
    "    with open(sample, 'r') as f:\n",
    "        contents = f.readlines()\n",
    "        for l in contents[:hm_lines]:\n",
    "            current_words = word_tokenize(l.lower())\n",
    "            current_words = [lemmatizer.lemmatize(i) for i in current_words]\n",
    "            features = np.zeros(len(lexicon))\n",
    "            for word in current_words:\n",
    "                if word.lower() in lexicon:\n",
    "                    index_value = lexicon.index(word.lower())\n",
    "                    features[index_value] += 1\n",
    "            features = list(features)\n",
    "            featureset.append([features, classification])\n",
    "    return featureset\n",
    "\n",
    "def create_featuresets_and_labels(pos, neg, test_size=0.1):\n",
    "    lexicon = create_lexicon(pos, neg)\n",
    "    features=[]\n",
    "    features += sample_handling('pos.txt', lexicon,[1,0])\n",
    "    features += sample_handling('neg.txt', lexicon,[0,1])\n",
    "    random.shuffle(features)\n",
    "    # features need to be numpy arrays\n",
    "    features = np.array(features)\n",
    "    testing_size = int(test_size * len(features))\n",
    "    # this numpy notation means \"I want a list of all the 0th elements\"\n",
    "    # We like to get the features up to the last 10% \n",
    "    # example: [[5, 8], [7, 9]] will become [5, 7]\n",
    "    train_x = list(features[:,0][:-testing_size])\n",
    "    train_y = list(features[:,1][:-testing_size])\n",
    "    # we need the last 10% for testing \n",
    "    test_x = list(features[:,0][-testing_size:])\n",
    "    test_y = list(features[:,1][-testing_size:])\n",
    "    return train_x,train_y,test_x,test_y\n",
    "\n",
    "\n",
    "train_x,train_y,test_x,test_y = \\\n",
    "    create_featuresets_and_labels('pos.txt', 'neg.txt', test_size=0.1)\n",
    "\n",
    "# if you want to pickle this data:\n",
    "# with open('sentiment_set.pickle','wb') as f:\n",
    "#     pickle.dump([train_x,train_y,test_x,test_y],f)"
   ]
  },
  {
   "cell_type": "markdown",
   "metadata": {},
   "source": [
    "Our preprocesisng is now over, and we have created the collection of featuresets and labels ('sentiment_set.pickle' should be created in the same directory by now). Now we are ready to run this through a deep neural network. We can run the code from deep_net with some changes."
   ]
  },
  {
   "cell_type": "code",
   "execution_count": 119,
   "metadata": {
    "collapsed": false
   },
   "outputs": [
    {
     "name": "stdout",
     "output_type": "stream",
     "text": [
      "Epoch 1 completed out of 15 loss: 8223562.07812\n",
      "Epoch 2 completed out of 15 loss: 3063549.93945\n",
      "Epoch 3 completed out of 15 loss: 1485081.6333\n",
      "Epoch 4 completed out of 15 loss: 1464338.87354\n",
      "Epoch 5 completed out of 15 loss: 1483004.90771\n",
      "Epoch 6 completed out of 15 loss: 839093.965576\n",
      "Epoch 7 completed out of 15 loss: 178526.384323\n",
      "Epoch 8 completed out of 15 loss: 96525.4767385\n",
      "Epoch 9 completed out of 15 loss: 52809.3573151\n",
      "Epoch 10 completed out of 15 loss: 49911.8045807\n",
      "Epoch 11 completed out of 15 loss: 50802.9235554\n",
      "Epoch 12 completed out of 15 loss: 53283.3651581\n",
      "Epoch 13 completed out of 15 loss: 56075.9269714\n",
      "Epoch 14 completed out of 15 loss: 55895.8740344\n",
      "Epoch 15 completed out of 15 loss: 63538.2344646\n",
      "Accuracy: 0.601313\n"
     ]
    }
   ],
   "source": [
    "import tensorflow as tf\n",
    "import numpy as np\n",
    "train_x, train_y, test_x, test_y = pickle.load(open(\"sentiment_set.pickle\",\"rb\"))\n",
    "\n",
    "n_nodes_hl1 = 800\n",
    "n_nodes_hl2 = 800\n",
    "n_nodes_hl3 = 800\n",
    "n_nodes_hl4 = 800\n",
    "\n",
    "# here we only have two classes (pos/neg)\n",
    "n_classes = 2\n",
    "batch_size = 100\n",
    "\n",
    "# size of the placeholder should be identical to a training vector \n",
    "x = tf.placeholder('float', [None, len(train_x[0])])\n",
    "y = tf.placeholder('float', shape=None)\n",
    "\n",
    "def neural_network_model(data):\n",
    "    hidden_1_layer = {'weights':tf.Variable(tf.random_normal([len(train_x[0]), n_nodes_hl1])),\n",
    "                      'biases':tf.Variable(tf.random_normal([n_nodes_hl1]))}\n",
    "    hidden_2_layer = {'weights':tf.Variable(tf.random_normal([n_nodes_hl1, n_nodes_hl2])),\n",
    "                      'biases':tf.Variable(tf.random_normal([n_nodes_hl2]))}\n",
    "    hidden_3_layer = {'weights':tf.Variable(tf.random_normal([n_nodes_hl2, n_nodes_hl3])),\n",
    "                      'biases':tf.Variable(tf.random_normal([n_nodes_hl3]))}\n",
    "    hidden_4_layer = {'weights':tf.Variable(tf.random_normal([n_nodes_hl3, n_nodes_hl4])),\n",
    "                      'biases':tf.Variable(tf.random_normal([n_nodes_hl4]))}\n",
    "    output_layer = {'weights':tf.Variable(tf.random_normal([n_nodes_hl4, n_classes])),\n",
    "                    'biases':tf.Variable(tf.random_normal([n_classes])),}\n",
    "\n",
    "    l1 = tf.add(tf.matmul(data,hidden_1_layer['weights']), hidden_1_layer['biases'])\n",
    "    l1 = tf.nn.relu(l1)\n",
    "\n",
    "    l2 = tf.add(tf.matmul(l1,hidden_2_layer['weights']), hidden_2_layer['biases'])\n",
    "    l2 = tf.nn.relu(l2)\n",
    "\n",
    "    l3 = tf.add(tf.matmul(l2,hidden_3_layer['weights']), hidden_3_layer['biases'])\n",
    "    l3 = tf.nn.relu(l3)\n",
    "\n",
    "    l4 = tf.add(tf.matmul(l3,hidden_4_layer['weights']), hidden_4_layer['biases'])\n",
    "    l4 = tf.nn.relu(l4)\n",
    "\n",
    "    output = tf.matmul(l4,output_layer['weights']) + output_layer['biases']\n",
    "    return output\n",
    "\n",
    "def train_neural_network(x):\n",
    "    prediction = neural_network_model(x)\n",
    "    cost = tf.reduce_mean( tf.nn.softmax_cross_entropy_with_logits(logits=prediction, labels=y) )\n",
    "    optimizer = tf.train.AdamOptimizer().minimize(cost)\n",
    "    \n",
    "    hm_epochs = 15\n",
    "    with tf.Session() as sess:\n",
    "        sess.run(tf.global_variables_initializer())\n",
    "\n",
    "        for epoch in range(hm_epochs):\n",
    "            epoch_loss = 0\n",
    "            # This part was MNIST specific and needed to be rewritten...\n",
    "            i = 1\n",
    "            while i < len(train_x)-1:\n",
    "                start = i\n",
    "                end = i + batch_size\n",
    "                \n",
    "                batch_x = np.array(train_x[start:end])\n",
    "                batch_y = np.array(train_y[start:end])\n",
    "                _, c = sess.run([optimizer, cost], feed_dict={x: batch_x, y: batch_y})\n",
    "                epoch_loss += c\n",
    "                i += batch_size\n",
    "\n",
    "            print('Epoch', epoch+1, 'completed out of',hm_epochs,'loss:',epoch_loss)\n",
    "\n",
    "        correct = tf.equal(tf.argmax(prediction, 1), tf.argmax(y, 1))\n",
    "\n",
    "        accuracy = tf.reduce_mean(tf.cast(correct, 'float'))\n",
    "        print('Accuracy:',accuracy.eval({x:test_x, y:test_y}))\n",
    "        \n",
    "\n",
    "train_neural_network(x)"
   ]
  },
  {
   "cell_type": "markdown",
   "metadata": {},
   "source": [
    "The accuracy is indeed not very impressive, but note that the data here is 10K which is small. We will have to compare this result with a case where we have a much larger dataset"
   ]
  },
  {
   "cell_type": "code",
   "execution_count": null,
   "metadata": {
    "collapsed": true
   },
   "outputs": [],
   "source": []
  }
 ],
 "metadata": {
  "anaconda-cloud": {},
  "kernelspec": {
   "display_name": "Python [conda root]",
   "language": "python",
   "name": "conda-root-py"
  },
  "language_info": {
   "codemirror_mode": {
    "name": "ipython",
    "version": 3
   },
   "file_extension": ".py",
   "mimetype": "text/x-python",
   "name": "python",
   "nbconvert_exporter": "python",
   "pygments_lexer": "ipython3",
   "version": "3.5.2"
  }
 },
 "nbformat": 4,
 "nbformat_minor": 1
}
